{
 "cells": [
  {
   "cell_type": "code",
   "execution_count": 15,
   "metadata": {},
   "outputs": [
    {
     "name": "stdout",
     "output_type": "stream",
     "text": [
      "{'ANNK': 10, 'DCOBatchSize': 5000, 'batchSize': 4000, 'candidateTimes': 1, 'coarseGrainedClusters': 96, 'congestionDrop': 1, 'crsDim': 10, 'cudaBuild': 1, 'cutOffTimeSeconds': 14400, 'disableADC': 0, 'driftPosition': 0, 'encodeLen': 1, 'eventRateTps': 4000, 'flannIndexTag': 1, 'frozenLevel': 0, 'initialRows': 50000, 'isOnlinePQ': 0, 'is_NSW': 0, 'maxBuildIteration': 200, 'numberOfBuckets': 8192, 'querySize': 100, 'sampleRows': 2048, 'singleWorkerOpt': 1, 'sketchSize': 128, 'staticDataSet': 0, 'useCRS': 1, 'useSeparateQuery': 1, 'vecDim': 768, 'vecVolume': 100000, 'waitPendingWrite': 1, 'driftOffset': 0.0, 'maskReference': 0.0, 'zipfAlpha': 0.0, 'ammAlgo': 'crs', 'congestionDropWorker_algoTag': 'faiss', 'dataLoaderTag': 'random', 'dataPath': 'datasets/DPR/DPR100KC4.fvecs', 'faissIndexTag': 'flat', 'fineGrainedBuiltPath': 'OnlinePQIndex_fine.rbt', 'indexTag': 'flat', 'lshMatrixType': 'random', 'metricType': 'IP', 'queryPath': 'datasets/DPR/DPR10KC4Q.fvecs'}\n"
     ]
    }
   ],
   "source": [
    "import torch\n",
    "import PyCANDY as candy\n",
    "cfg=candy.ConfigMap()\n",
    "cfg.fromFile('config_template.csvt')\n",
    "cfgd=candy.configMapToDict(cfg)\n",
    "print(cfgd)"
   ]
  },
  {
   "cell_type": "code",
   "execution_count": 16,
   "metadata": {},
   "outputs": [
    {
     "name": "stdout",
     "output_type": "stream",
     "text": [
      "INFO:Thu May  9 19:34:51 2024:/home/miter/projects/CANDY/src/DataLoader/RandomDataLoader.cpp:28|virtual bool CANDY::RandomDataLoader::setConfig(INTELLI::ConfigMapPtr)|\u001b[34mGenerating [100000x768], query size 100\u001b[0m\n"
     ]
    },
    {
     "data": {
      "text/plain": [
       "True"
      ]
     },
     "execution_count": 16,
     "metadata": {},
     "output_type": "execute_result"
    }
   ],
   "source": [
    "aknn = candy.createIndex(cfgd['indexTag'])\n",
    "dl = candy.createDataLoader(cfgd['dataLoaderTag'])\n",
    "perf0 = candy.PAPIPerf()\n",
    "perf0.initEventsByCfg(cfg)\n",
    "perf1 = candy.PAPIPerf()\n",
    "perf1.initEventsByCfg(cfg)\n",
    "aknn.setConfig(cfg)\n",
    "dl.setConfig(cfg)\n",
    "data=dl.getData()\n",
    "query=dl.getQuery()\n",
    "# perf the insert\n",
    "perf0.start()\n",
    "aknn.insertTensor(data)\n",
    "perf0.end()\n",
    "rucsv=perf0.resultToConfigMap()\n",
    "rucsv.toFile('perfInsert.csv')\n",
    "#perf the query\n",
    "perf1.start()\n",
    "aknn.searchTensor(query,10)\n",
    "perf1.end()\n",
    "rucsv=perf0.resultToConfigMap()\n",
    "rucsv.toFile('perfQuery.csv')"
   ]
  }
 ],
 "metadata": {
  "kernelspec": {
   "display_name": "Python 3",
   "language": "python",
   "name": "python3"
  },
  "language_info": {
   "codemirror_mode": {
    "name": "ipython",
    "version": 3
   },
   "file_extension": ".py",
   "mimetype": "text/x-python",
   "name": "python",
   "nbconvert_exporter": "python",
   "pygments_lexer": "ipython3",
   "version": "3.10.6"
  }
 },
 "nbformat": 4,
 "nbformat_minor": 2
}
